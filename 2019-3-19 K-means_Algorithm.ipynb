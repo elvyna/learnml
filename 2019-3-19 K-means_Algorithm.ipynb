{
 "cells": [
  {
   "cell_type": "markdown",
   "metadata": {},
   "source": [
    "# K Means Algorithm Simple Implementation\n",
    "\n",
    "All of you might be familiar on Kmeans algorithm especially [Kmeans on scikit-learn](https://scikit-learn.org/stable/modules/generated/sklearn.cluster.KMeans.html), so here I aim to give you a tutorial on how to implement K-means step by steps using the stanford's cs221 template code [1].\n",
    "\n",
    "\n",
    "*Note: This notebook contains interactive plots, which might take sometime to be initialized. Please be patient"
   ]
  },
  {
   "cell_type": "code",
   "execution_count": 1,
   "metadata": {},
   "outputs": [],
   "source": [
    "# the infamous visualzation tool\n",
    "import matplotlib.pyplot as plt\n",
    "\n",
    "# the infamous matrix operation and manipulation library\n",
    "import numpy as np\n",
    "\n",
    "\n",
    "# well this is new, isn't it?\n",
    "# it's for making slider in jupyter notebook \n",
    "from ipywidgets import interact"
   ]
  },
  {
   "cell_type": "code",
   "execution_count": 2,
   "metadata": {},
   "outputs": [],
   "source": [
    "# for debugging purpose, \n",
    "# for the impatients you does not have to care about these\n",
    "import logging\n",
    "import sys\n",
    "\n",
    "log = logging.getLogger()\n",
    "log.setLevel(logging.ERROR)\n",
    "\n",
    "handler = logging.StreamHandler(sys.stdout)\n",
    "formatter = logging.Formatter('%(asctime)s - %(name)s - %(levelname)s - %(message)s')\n",
    "handler.setFormatter(formatter)\n",
    "\n",
    "log.addHandler(handler)"
   ]
  },
  {
   "cell_type": "markdown",
   "metadata": {},
   "source": [
    "You are encouraged to read the K-means algorithm explanation on [1](http://stanford.edu/~cpiech/cs221/handouts/kmeans.html) because I will not re-explained it here. However I will describe code implementations, which are taken from [1](http://stanford.edu/~cpiech/cs221/handouts/kmeans.html), then converted to support more interactive features in this notebook.\n",
    "\n",
    "I'm using code convention, as follow: \n",
    "1. function with `_[function_name]()` is for \"private\" function, otherwise public.\n",
    "2. `log.info` is merely for debugging purpose, you should skip those when reading my codes.\n",
    "3. I use `*` (asterix) for parameter passing, for shorthand. More info: [4](https://stackoverflow.com/questions/36901/what-does-double-star-asterisk-and-star-asterisk-do-for-parameters)"
   ]
  },
  {
   "cell_type": "code",
   "execution_count": 3,
   "metadata": {},
   "outputs": [],
   "source": [
    "def _get_random_centroids(num_features, k):\n",
    "    \"\"\"\n",
    "    initializing random centroids for (\n",
    "        i row -> in total matched num_features, \n",
    "        j dimension -> in total k clusters\n",
    "    )\n",
    "    \"\"\"\n",
    "    return np.array([\n",
    "        [np.random.uniform() for i in range(num_features)] \n",
    "        for j in range(k)\n",
    "    ])\n",
    "\n",
    "def _should_stop(old_centroids, centroids, iterations, max_iterations):\n",
    "    \"\"\"\n",
    "    if the algorithm should stop because it has found local maximum\n",
    "    \"\"\"\n",
    "    if iterations >= max_iterations:\n",
    "        return True\n",
    "    \n",
    "    if old_centroids is None:\n",
    "        return False\n",
    "    \n",
    "    \n",
    "    return (old_centroids == centroids).all()\n",
    "\n",
    "def _get_labels(data, centroids):\n",
    "    \"\"\"\n",
    "    get labels for every data points\n",
    "    \"\"\"\n",
    "    labels = []\n",
    "    for datum in data:\n",
    "        log.info('datum: {}'.format(datum))\n",
    "        log.info('centroids: {}'.format(centroids))\n",
    "        \n",
    "        # calculate eucledian distance between a datum and all centroids\n",
    "        # say you have [1, 0] as datum, and [(1, 1), (2, 2)] as centroids\n",
    "        # this code will compute [ \n",
    "        #           np.sqrt( (1 - 1) + (0 - 1) ),\n",
    "        #           np.sqrt( (1 - 2) + (0 - 2) )\n",
    "        # ]\n",
    "        # *axis=1 means summing for every column\n",
    "        dist_to_centroids = np.sqrt(\n",
    "            np.power(datum - centroids, 2).sum(axis=1)\n",
    "        )\n",
    "        log.info('distance to centroids: {}'.format(dist_to_centroids))\n",
    "        \n",
    "        # finally get which index is the minimum distance centroids\n",
    "        # this is become our label\n",
    "        labels.append(np.argmin(dist_to_centroids))\n",
    "        \n",
    "    return np.array(labels)\n",
    "\n",
    "def _get_centroids(data, labels, k):\n",
    "    \n",
    "    centroids = []\n",
    "    for u_label_i in range(k):\n",
    "        # find out which data is in cluster u_label_i\n",
    "        cluster_i_elements = data[\n",
    "            labels == u_label_i\n",
    "        ]\n",
    "        \n",
    "        # if no elements in a cluster, re-initialize random centroid\n",
    "        if cluster_i_elements.size == 0:\n",
    "            centroids.append(\n",
    "                np.random.uniform((1, data.shape[1]))\n",
    "            )\n",
    "            # jump into next iteration\n",
    "            continue\n",
    "            \n",
    "        log.info('cluster {} elements: {}'.format(u_label_i, cluster_i_elements))\n",
    "        \n",
    "        # get the number average for each dimension in a specific\n",
    "        # u_label_i cluster members\n",
    "        mu_i = np.sum(cluster_i_elements, axis=0) / cluster_i_elements.shape[0]\n",
    "        log.info('mu_i: {}'.format(mu_i))\n",
    "        \n",
    "        centroids.append(mu_i)\n",
    "    \n",
    "    return np.array(centroids)\n",
    "\n",
    "def kmeans(data, k, max_iterations=30):\n",
    "    # parameters initialization\n",
    "    # get number of \n",
    "    num_features = data.shape[1]\n",
    "    centroids = _get_random_centroids(num_features, k)\n",
    "    iterations = 0\n",
    "    \n",
    "    old_centroids = None\n",
    "    centroid_logs = [] # storing states/logs of centroids movements\n",
    "    \n",
    "    labels = None\n",
    "    labels_logs = [] # storing states/logs of labels movements\n",
    "    \n",
    "    \n",
    "    while not _should_stop(old_centroids, centroids, iterations, max_iterations):\n",
    "        log.info('-----------------{}-----------------'.format(iterations))\n",
    "        old_centroids = centroids\n",
    "        \n",
    "        iterations += 1\n",
    "        \n",
    "        labels = _get_labels(data, centroids)\n",
    "        \n",
    "        # store histories\n",
    "        centroid_logs.append(centroids)\n",
    "        labels_logs.append(labels)\n",
    "        \n",
    "        centroids = _get_centroids(data, labels, k)\n",
    "        log.info('iteration centroids: {}'.format(centroids))\n",
    "        \n",
    "    return centroids, labels, centroid_logs, labels_logs"
   ]
  },
  {
   "cell_type": "markdown",
   "metadata": {},
   "source": [
    "Now let's construct some dummy 2 Dimensional data. Why 2-D? because it will be easier to visualized as scatter plot."
   ]
  },
  {
   "cell_type": "code",
   "execution_count": 4,
   "metadata": {},
   "outputs": [],
   "source": [
    "data = np.array([\n",
    "    [1,0],\n",
    "    [1,0.5],\n",
    "    [0.0,0.5],\n",
    "    [2,2],\n",
    "    [3,3]\n",
    "])"
   ]
  },
  {
   "cell_type": "markdown",
   "metadata": {},
   "source": [
    "Then visualize it on scatter plot"
   ]
  },
  {
   "cell_type": "code",
   "execution_count": 5,
   "metadata": {},
   "outputs": [
    {
     "data": {
      "image/png": "[encoded data removed]",
      "text/plain": [
       "<Figure size 864x504 with 1 Axes>"
      ]
     },
     "metadata": {
      "needs_background": "light"
     },
     "output_type": "display_data"
    }
   ],
   "source": [
    "f, ax = plt.subplots(figsize=(12, 7))\n",
    "plt.scatter(*data.T)\n",
    "\n",
    "plt.title('Dummy Data visualized on 2D dimension')\n",
    "plt.xlabel('First Dimension, data.T[0]')\n",
    "plt.ylabel('Second Dimension, data.T[1]')\n",
    "\n",
    "plt.show()"
   ]
  },
  {
   "cell_type": "markdown",
   "metadata": {},
   "source": [
    "Now we run our clustering algorithm into these data."
   ]
  },
  {
   "cell_type": "code",
   "execution_count": 6,
   "metadata": {
    "scrolled": true
   },
   "outputs": [],
   "source": [
    "# using random seed for reproducibility\n",
    "np.random.seed(1)\n",
    "centroids, labels, centroid_logs, label_logs = kmeans(data, 2, max_iterations=10)"
   ]
  },
  {
   "cell_type": "code",
   "execution_count": 7,
   "metadata": {},
   "outputs": [
    {
     "data": {
      "image/png": "[encoded data removed]",
      "text/plain": [
       "<Figure size 864x504 with 1 Axes>"
      ]
     },
     "metadata": {
      "needs_background": "light"
     },
     "output_type": "display_data"
    }
   ],
   "source": [
    "f, ax = plt.subplots(figsize=(12, 7))\n",
    "\n",
    "plt.scatter(*data.T)\n",
    "plt.scatter(*centroids.T, marker='x', color='red')\n",
    "\n",
    "for label, centroid in enumerate(centroids):\n",
    "    plt.annotate(\n",
    "        'centroid: {}'.format(label),\n",
    "        xy=centroid,\n",
    "        xytext=0.95*centroid\n",
    "    )\n",
    "\n",
    "plt.title('Final Data + Centroids visualized on 2D dimension')\n",
    "plt.xlabel('First Dimension, data.T[0]')\n",
    "plt.ylabel('Second Dimension, data.T[1]')\n",
    "\n",
    "plt.show()"
   ]
  },
  {
   "cell_type": "markdown",
   "metadata": {},
   "source": [
    "We see that centroid 0 and centroid 1 is on the center of each clusters, as it should, by taking the means for each cluster members data. However this visualization can be improved further."
   ]
  },
  {
   "cell_type": "code",
   "execution_count": 30,
   "metadata": {},
   "outputs": [],
   "source": [
    "def draw_movements(label_logs, centroid_logs, data, centroids, labels, t):\n",
    "    \"\"\"\n",
    "    draw data points and centroid for time t\n",
    "    \"\"\"\n",
    "    f, ax = plt.subplots(figsize=(12, 7))\n",
    "    \n",
    "    labels = label_logs[t]\n",
    "    centroids = centroid_logs[t]\n",
    "    plt.scatter(*data.T, c=labels)\n",
    "    \n",
    "    for label, datum in zip(labels, data):\n",
    "        plt.annotate(\n",
    "            label,\n",
    "            xy=datum\n",
    "        )\n",
    "    \n",
    "    plt.scatter(*centroids.T, marker='x', color='red', label='centroid')\n",
    "    \n",
    "    for label, centroid in enumerate(centroids):\n",
    "        plt.annotate(\n",
    "            'centroid {}'.format(label), \n",
    "            xy=centroid,\n",
    "            xytext=centroid * 0.75,\n",
    "            arrowprops=dict(\n",
    "                facecolor='black',\n",
    "                arrowstyle='->',\n",
    "                connectionstyle='angle3,angleA=45,angleB=-90'\n",
    "            )\n",
    "        )\n",
    "        \n",
    "    plt.title('Final Data + Centroids Movements and Cluster Members')    \n",
    "    plt.xlabel('First Dimension, data.T[0]')\n",
    "    plt.ylabel('Second Dimension, data.T[1]')\n",
    "\n",
    "    plt.legend()\n",
    "    plt.show()"
   ]
  },
  {
   "cell_type": "code",
   "execution_count": 31,
   "metadata": {},
   "outputs": [
    {
     "data": {
      "application/vnd.jupyter.widget-view+json": {
       "model_id": "e5d276eca6c54303ad5871898703ad06",
       "version_major": 2,
       "version_minor": 0
      },
      "text/plain": [
       "interactive(children=(IntSlider(value=0, description='t', max=2), Output()), _dom_classes=('widget-interact',)…"
      ]
     },
     "metadata": {},
     "output_type": "display_data"
    },
    {
     "data": {
      "text/plain": [
       "<function __main__.draw(t=0)>"
      ]
     },
     "execution_count": 31,
     "metadata": {},
     "output_type": "execute_result"
    }
   ],
   "source": [
    "def draw(t=0):\n",
    "    draw_movements(\n",
    "        label_logs, \n",
    "        centroid_logs,\n",
    "        data,\n",
    "        centroids,\n",
    "        labels, \n",
    "        t\n",
    "    )\n",
    "interact(\n",
    "    draw, \n",
    "    t=(0, len(label_logs) - 1)\n",
    ")"
   ]
  },
  {
   "cell_type": "markdown",
   "metadata": {},
   "source": [
    "I have visualized how randomized centroids has been initialized at time $t=0$ and centroid 0 moved towards upper points, which finally converges at $t=2$.\n",
    "\n",
    "This is great! Now let's see more random data points !"
   ]
  },
  {
   "cell_type": "code",
   "execution_count": 32,
   "metadata": {},
   "outputs": [],
   "source": [
    "np.random.seed(1)\n",
    "data_1 = np.random.rand(40, 2)\n",
    "centroids_1, labels_1, centroid_logs_1, label_logs_1 = kmeans(data_1, 3, max_iterations=10)"
   ]
  },
  {
   "cell_type": "code",
   "execution_count": 33,
   "metadata": {
    "scrolled": false
   },
   "outputs": [
    {
     "data": {
      "application/vnd.jupyter.widget-view+json": {
       "model_id": "c68c5e8bfe704a7bb2138d8802b3fcc9",
       "version_major": 2,
       "version_minor": 0
      },
      "text/plain": [
       "interactive(children=(IntSlider(value=0, description='t1', max=5), Output()), _dom_classes=('widget-interact',…"
      ]
     },
     "metadata": {},
     "output_type": "display_data"
    },
    {
     "data": {
      "text/plain": [
       "<function __main__.draw_1(t1=0)>"
      ]
     },
     "execution_count": 33,
     "metadata": {},
     "output_type": "execute_result"
    }
   ],
   "source": [
    "def draw_1(t1=0):\n",
    "    draw_movements(\n",
    "        label_logs_1, \n",
    "        centroid_logs_1,\n",
    "        data_1,\n",
    "        centroids_1,\n",
    "        labels_1, \n",
    "        t1\n",
    "    )\n",
    "interact(\n",
    "    draw_1,\n",
    "    t1=(0, len(label_logs_1) - 1)\n",
    ")"
   ]
  },
  {
   "cell_type": "markdown",
   "metadata": {},
   "source": [
    "Now I will use nbinteract ([2], [3]) tool to convert this notebook into interactive form! Thank you and enjoy!"
   ]
  },
  {
   "cell_type": "markdown",
   "metadata": {},
   "source": [
    "# References\n",
    "[1] http://stanford.edu/~cpiech/cs221/handouts/kmeans.html\n",
    "\n",
    "[2] [Nbinteract - UC Berkeley](https://www2.eecs.berkeley.edu/Pubs/TechRpts/2018/EECS-2018-57.pdf)\n",
    "\n",
    "[3] [Nbinteract - Official Web](https://www.nbinteract.com/)\n",
    "\n",
    "[4] [Stackoverflow - Asterix](https://stackoverflow.com/questions/36901/what-does-double-star-asterisk-and-star-asterisk-do-for-parameters)"
   ]
  }
 ],
 "metadata": {
  "kernelspec": {
   "display_name": "Python 3",
   "language": "python",
   "name": "python3"
  },
  "language_info": {
   "codemirror_mode": {
    "name": "ipython",
    "version": 3
   },
   "file_extension": ".py",
   "mimetype": "text/x-python",
   "name": "python",
   "nbconvert_exporter": "python",
   "pygments_lexer": "ipython3",
   "version": "3.5.4"
  }
 },
 "nbformat": 4,
 "nbformat_minor": 2
}
